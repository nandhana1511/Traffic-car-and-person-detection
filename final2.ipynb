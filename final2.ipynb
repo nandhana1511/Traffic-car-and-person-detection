{
 "cells": [
  {
   "cell_type": "code",
   "execution_count": 10,
   "metadata": {},
   "outputs": [],
   "source": [
    "import cv2\n",
    "import numpy as np"
   ]
  },
  {
   "cell_type": "code",
   "execution_count": 11,
   "metadata": {},
   "outputs": [],
   "source": [
    "# Load Haar cascades for car and person detection\n",
    "# Load Haar cascades for car and person detection\n",
    "car_cascade = cv2.CascadeClassifier('C:\\\\Users\\\\DELL\\\\Desktop\\\\Traffic\\\\haarcascade_car.xml')\n",
    "person_cascade = cv2.CascadeClassifier('C:\\\\Users\\\\DELL\\\\Desktop\\\\Traffic\\\\haarcascade_fullbody.xml')\n",
    "\n",
    "# Check if the Haar cascades are loaded correctly\n",
    "if car_cascade.empty():\n",
    "    raise IOError('Failed to load Haar cascade for car detection.')\n",
    "if person_cascade.empty():\n",
    "    raise IOError('Failed to load Haar cascade for person detection.')"
   ]
  },
  {
   "cell_type": "code",
   "execution_count": 12,
   "metadata": {},
   "outputs": [],
   "source": [
    "# Load the image\n",
    "image_path = 'C:\\\\Users\\\\DELL\\\\Desktop\\\\Traffic\\\\traffic4.jpeg'\n",
    "image = cv2.imread(image_path)\n",
    "\n",
    "# Check if the image is loaded correctly\n",
    "if image is None:\n",
    "    raise IOError(f\"Failed to load image at {image_path}\")\n",
    "\n",
    "gray = cv2.cvtColor(image, cv2.COLOR_BGR2GRAY)"
   ]
  },
  {
   "cell_type": "code",
   "execution_count": 13,
   "metadata": {},
   "outputs": [],
   "source": [
    "# Detect cars\n",
    "cars = car_cascade.detectMultiScale(gray, scaleFactor=1.1, minNeighbors=5, minSize=(30, 30))\n",
    "\n",
    "for (x, y, w, h) in cars:\n",
    "    car_img = image[y:y+h, x:x+w]\n",
    "    hsv = cv2.cvtColor(car_img, cv2.COLOR_BGR2HSV)\n",
    "    \n",
    "    # Define range for red color\n",
    "    lower_red1 = np.array([0, 100, 100])\n",
    "    upper_red1 = np.array([10, 255, 255])\n",
    "    lower_red2 = np.array([160, 100, 100])\n",
    "    upper_red2 = np.array([180, 255, 255])\n",
    "\n",
    "    # Define range for blue color\n",
    "    lower_blue = np.array([100, 100, 100])\n",
    "    upper_blue = np.array([140, 255, 255])\n",
    "\n",
    "    mask_red1 = cv2.inRange(hsv, lower_red1, upper_red1)\n",
    "    mask_red2 = cv2.inRange(hsv, lower_red2, upper_red2)\n",
    "    mask_red = mask_red1 | mask_red2\n",
    "    mask_blue = cv2.inRange(hsv, lower_blue, upper_blue)\n",
    "\n",
    "    if np.sum(mask_red) > np.sum(mask_blue):\n",
    "        color = 'Red'\n",
    "    else:\n",
    "        color = 'Blue'\n",
    "\n",
    "    # Draw rectangle around the car and label\n",
    "    color_label = f'Car - {color}'\n",
    "    cv2.rectangle(image, (x, y), (x+w, y+h), (0, 255, 0), 2)\n",
    "    cv2.putText(image, color_label, (x, y-10), cv2.FONT_HERSHEY_SIMPLEX, 0.9, (0, 255, 0), 2)"
   ]
  },
  {
   "cell_type": "code",
   "execution_count": 14,
   "metadata": {},
   "outputs": [],
   "source": [
    "# Detect people\n",
    "people = person_cascade.detectMultiScale(gray, 1.1, 1)\n",
    "people_count = 0\n",
    "for (x, y, w, h) in people:\n",
    "    people_count += 1\n",
    "    cv2.rectangle(image, (x, y), (x+w, y+h), (255, 0, 0), 2)"
   ]
  },
  {
   "cell_type": "code",
   "execution_count": 15,
   "metadata": {},
   "outputs": [],
   "source": [
    "#Display the result\n",
    "cv2.imshow('Detected Objects', image)\n",
    "cv2.waitKey(0)\n",
    "cv2.destroyAllWindows()\n",
    "\n",
    "print(f'Number of people detected: {people_count}')"
   ]
  },
  {
   "cell_type": "code",
   "execution_count": null,
   "metadata": {},
   "outputs": [],
   "source": []
  }
 ],
 "metadata": {
  "kernelspec": {
   "display_name": "Python 3",
   "language": "python",
   "name": "python3"
  },
  "language_info": {
   "codemirror_mode": {
    "name": "ipython",
    "version": 3
   },
   "file_extension": ".py",
   "mimetype": "text/x-python",
   "name": "python",
   "nbconvert_exporter": "python",
   "pygments_lexer": "ipython3",
   "version": "3.12.4"
  }
 },
 "nbformat": 4,
 "nbformat_minor": 2
}
